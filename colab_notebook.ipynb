{
 "cells": [
  {
   "cell_type": "code",
   "execution_count": null,
   "metadata": {
    "vscode": {
     "languageId": "plaintext"
    }
   },
   "outputs": [],
   "source": [
    "# --- 1. Setup: Clone repo ---\n",
    "# For a public repo:\n",
    "!git clone https://github.com/<your-username>/<your-repo>.git\n",
    "%cd <your-repo>\n",
    "\n",
    "# If it's private, use:\n",
    "# !git clone https://<TOKEN>@github.com/<your-username>/<your-repo>.git\n",
    "# (replace <TOKEN> with your GitHub personal access token)\n"
   ]
  },
  {
   "cell_type": "code",
   "execution_count": null,
   "metadata": {
    "vscode": {
     "languageId": "plaintext"
    }
   },
   "outputs": [],
   "source": [
    "!pip install uv"
   ]
  },
  {
   "cell_type": "code",
   "execution_count": null,
   "metadata": {
    "vscode": {
     "languageId": "plaintext"
    }
   },
   "outputs": [],
   "source": [
    "!uv init\n",
    "!uv sync"
   ]
  }
 ],
 "metadata": {
  "language_info": {
   "name": "python"
  }
 },
 "nbformat": 4,
 "nbformat_minor": 2
}
